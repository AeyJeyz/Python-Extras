{
 "cells": [
  {
   "cell_type": "code",
   "execution_count": 84,
   "metadata": {},
   "outputs": [
    {
     "data": {
      "text/plain": [
       "[{'name': 'Abhi',\n",
       "  'phone_no': 9561372339,\n",
       "  'call_duration': '02:00:00',\n",
       "  'bill': '$360'},\n",
       " {'name': 'Surya',\n",
       "  'phone_no': 7798879792,\n",
       "  'call_duration': '15:00:00',\n",
       "  'bill': '$6300'},\n",
       " {'name': 'Chetan',\n",
       "  'phone_no': 9561372338,\n",
       "  'call_duration': '05:30:00',\n",
       "  'bill': '$2310'},\n",
       " {'name': 'Kiran',\n",
       "  'phone_no': 9561372337,\n",
       "  'call_duration': '16:30:00',\n",
       "  'bill': 'Free..!!'},\n",
       " {'name': 'Kishore',\n",
       "  'phone_no': 9561372336,\n",
       "  'call_duration': '04:59:00',\n",
       "  'bill': '$897'},\n",
       " {'name': 'Shubham',\n",
       "  'phone_no': 9561372333,\n",
       "  'call_duration': '12:30:00',\n",
       "  'bill': '$5250'}]"
      ]
     },
     "execution_count": 84,
     "metadata": {},
     "output_type": "execute_result"
    }
   ],
   "source": [
    "Call_Log = [\n",
    " {'name':'Abhi','phone_no': 9561372339,'call_duration':'02:00:00'},\n",
    " {'name':'Surya','phone_no': 7798879792,'call_duration':'15:00:00'},\n",
    " {'name':'Chetan','phone_no': 9561372338,'call_duration':'05:30:00'},\n",
    " {'name':'Kiran','phone_no': 9561372337,'call_duration':'16:30:00'},\n",
    " {'name':'Kishore','phone_no': 9561372336,'call_duration':'04:59:00'},\n",
    " {'name':'Shubham','phone_no': 9561372333,'call_duration':'12:30:00'},\n",
    "]\n",
    "for i in range (0,6) :\n",
    "    mm,ss,ms = Call_Log[i]['call_duration'].split(\":\")\n",
    "    time =(int(mm)*60)+int(ss)+(int(ms)/1000)\n",
    "    if time <= 300 :\n",
    "        total_cost = int(time*3)\n",
    "    elif time <= 900 and time > 300 :\n",
    "        total_cost = int(time*7)\n",
    "    elif time > 900 :\n",
    "        total_cost = str(\"Free..!!\")\n",
    "    else : print(\"Something went wrong\")\n",
    "   \n",
    "    if type(total_cost) is not str:\n",
    "        Call_Log[i]['bill'] = str(\"$\"+str(total_cost))\n",
    "    else : Call_Log[i]['bill'] = total_cost        \n",
    "Call_Log"
   ]
  },
  {
   "cell_type": "code",
   "execution_count": null,
   "metadata": {},
   "outputs": [],
   "source": []
  }
 ],
 "metadata": {
  "kernelspec": {
   "display_name": "Python 3",
   "language": "python",
   "name": "python3"
  },
  "language_info": {
   "codemirror_mode": {
    "name": "ipython",
    "version": 3
   },
   "file_extension": ".py",
   "mimetype": "text/x-python",
   "name": "python",
   "nbconvert_exporter": "python",
   "pygments_lexer": "ipython3",
   "version": "3.8.3"
  }
 },
 "nbformat": 4,
 "nbformat_minor": 4
}
